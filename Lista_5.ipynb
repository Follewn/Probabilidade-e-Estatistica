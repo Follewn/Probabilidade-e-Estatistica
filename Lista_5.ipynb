{
  "nbformat": 4,
  "nbformat_minor": 0,
  "metadata": {
    "colab": {
      "name": "Lista 5",
      "provenance": [],
      "collapsed_sections": [],
      "authorship_tag": "ABX9TyPFerM7K15h/kqvCeObpfb4",
      "include_colab_link": true
    },
    "kernelspec": {
      "name": "python3",
      "display_name": "Python 3"
    }
  },
  "cells": [
    {
      "cell_type": "markdown",
      "metadata": {
        "id": "view-in-github",
        "colab_type": "text"
      },
      "source": [
        "<a href=\"https://colab.research.google.com/github/Follewn/Probabilidade-e-estatistica/blob/Lista-5/Lista_5.ipynb\" target=\"_parent\"><img src=\"https://colab.research.google.com/assets/colab-badge.svg\" alt=\"Open In Colab\"/></a>"
      ]
    },
    {
      "cell_type": "code",
      "metadata": {
        "colab": {
          "base_uri": "https://localhost:8080/",
          "height": 160
        },
        "id": "zGG4sXqtP1f_",
        "outputId": "61764557-a1d1-4959-b369-93c7f0f9edd0"
      },
      "source": [
        "# Diciplina : Probabilidade e Estastistica\n",
        "# Leonardo Maruno Drews /Turma: A\n",
        "# Matricula: 20114290095\n",
        "# Lista 5\n",
        "\n",
        "\n",
        "\n",
        "# Exercício 1\n",
        "\n",
        "'''import statistics as stats\n",
        "consumo = [10,13,17,9,8,11,13,7]\n",
        "# simplificarei os nomes.\n",
        "media_aritimetica = 'MA'\n",
        "media_harmonica = 'MH'\n",
        "media_geometrica = 'MG'\n",
        "moda = 'MOD'\n",
        "variancia = 'VR'\n",
        "desvio_padrao = 'DP'\n",
        "# usarei comandos statistics para ultilizar elementos de calculo.\n",
        "MA = stats.mean(consumo)\n",
        "print('a) Média Aritimética: ',MA)\n",
        "MH = stats.harmonic_mean(consumo)\n",
        "print('b) Média Harmônica: ',MH)\n",
        "# importando gmean para calcular média aritimética\n",
        "from scipy.stats import gmean\n",
        "MG = gmean(consumo)\n",
        "print('c) Média Geométrica: ',MG)\n",
        "MOD = stats.mode(consumo)\n",
        "print('d) Moda: ',MOD)\n",
        "VR = stats.variance(consumo)\n",
        "print('e) Variância: ',VR)\n",
        "DP = stats.stdev(consumo)\n",
        "print('f) Desvio Padrão: ',DP)'''\n"
      ],
      "execution_count": null,
      "outputs": [
        {
          "output_type": "stream",
          "text": [
            "a) Média Aritimética:  11\n",
            "b) Média Harmônica:  10.223027770053966\n",
            "c) Média Geométrica:  10.599121142601566\n",
            "d) Moda:  13\n",
            "e) Variância:  10.571428571428571\n",
            "f) Desvio Padrão:  3.251373336211726\n"
          ],
          "name": "stdout"
        },
        {
          "output_type": "execute_result",
          "data": {
            "application/vnd.google.colaboratory.intrinsic+json": {
              "type": "string"
            },
            "text/plain": [
              "\"# Prática\\nkg = [4.0, 4.5, 5.0, 5.0, 5.5, 6.0, 6.0, 6.5, 6.5, 6.5, 6.5, 7.0, 7.0, 7.0, 7.0, 7.0, 7.5, 8.5, 9.0, 9.0, 9.0, 9.5, 10.0, 10.0, 10.5, 10.5, 11.0, 12.0, 12.5, 13.0, 13.0] \\nkg = statistics.stdev(kg) / statistics.mean(kg) *100\\nprint('Coeficiente da variação: ',kg,'kg')\""
            ]
          },
          "metadata": {
            "tags": []
          },
          "execution_count": 118
        }
      ]
    },
    {
      "cell_type": "code",
      "metadata": {
        "colab": {
          "base_uri": "https://localhost:8080/"
        },
        "id": "qRCJ0HzOPryo",
        "outputId": "cdc70aee-4bb2-4b46-e073-7d2c840d2c24"
      },
      "source": [
        "# Diciplina : Probabilidade e Estastistica\n",
        "# Leonardo Maruno Drews /Turma: A\n",
        "# Matricula: 20114290095\n",
        "# Lista 5\n",
        "\n",
        "\n",
        "\n",
        "# Exercício 2\n",
        "\n",
        "'''from scipy.stats import gmean\n",
        "import statistics as stats\n",
        "resultados = [67,75,63,72,77,78,81,77,80]\n",
        "# simplificarei os nomes.\n",
        "media_aritimetica = 'MA'\n",
        "media_harmonica = 'MH'\n",
        "media_geometrica = 'MG'\n",
        "moda = 'MOD'\n",
        "mediana = 'MD'\n",
        "variancia = 'VR'\n",
        "desvio_padrao = 'DP'\n",
        "# novamente usarei comandos statistics para ultilizar elementos de calculo.\n",
        "MA = stats.mean(resultados)\n",
        "MH = stats.harmonic_mean(resultados)\n",
        "MG = gmean(resultados)\n",
        "print('a) Média aritmética simples: ',MA,'; harmônica: ',MH,'; geométrica: ',MG)\n",
        "MOD = stats.mode(resultados)\n",
        "print('b) Moda: ',MOD)\n",
        "MD = stats.median(resultados)\n",
        "print('c) Mediana: ',MD)\n",
        "VR = stats.variance(resultados)\n",
        "print('d) Variância: ',VR)\n",
        "DP = stats.stdev(resultados)\n",
        "print('e) Desvio Padrão: ',DP)'''"
      ],
      "execution_count": null,
      "outputs": [
        {
          "output_type": "stream",
          "text": [
            "a) Média aritmética simples:  74.44444444444444 ; harmônica:  73.9761521541457 ; geométrica:  74.21566351300045\n",
            "b) Moda:  77\n",
            "c) Mediana:  77\n",
            "d) Variância:  36.52777777777778\n",
            "e) Desvio Padrão:  6.043821454822915\n"
          ],
          "name": "stdout"
        }
      ]
    },
    {
      "cell_type": "code",
      "metadata": {
        "colab": {
          "base_uri": "https://localhost:8080/"
        },
        "id": "0PiIZq4XQB5n",
        "outputId": "be24db6e-697e-4e23-bb8d-b7ff8ea424ce"
      },
      "source": [
        "# Diciplina : Probabilidade e Estastistica\n",
        "# Leonardo Maruno Drews /Turma: A\n",
        "# Matricula: 20114290095\n",
        "# Lista 5\n",
        "\n",
        "\n",
        "\n",
        "# Exercício 3\n",
        "\n",
        "'''import statistics\n",
        "kg = [4.0, 4.5, 5.0, 5.0, 5.5, 6.0, 6.0, 6.5, 6.5, 6.5, 6.5, 7.0, 7.0, 7.0, 7.0, 7.0, 7.5, 8.5, 9.0, 9.0, 9.0, 9.5, 10.0, 10.0, 10.5, 10.5, 11.0, 12.0, 12.5, 13.0, 13.0]\n",
        "# usando o stdev / mean e multiplicarei por 100 para obter o resultado \n",
        "kg = statistics.stdev(kg) / statistics.mean(kg) *100\n",
        "print('Coeficiente da variação: ',kg,'kg')'''"
      ],
      "execution_count": null,
      "outputs": [
        {
          "output_type": "stream",
          "text": [
            "Coeficiente da variação:  31.40190467204176 kg\n"
          ],
          "name": "stdout"
        }
      ]
    },
    {
      "cell_type": "code",
      "metadata": {
        "colab": {
          "base_uri": "https://localhost:8080/"
        },
        "id": "XmmSsZFcRTJh",
        "outputId": "9253dbee-5e6a-4945-f1ea-36674cdd1ab8"
      },
      "source": [
        "# Diciplina : Probabilidade e Estastistica\n",
        "# Leonardo Maruno Drews /Turma: A\n",
        "# Matricula: 20114290095\n",
        "# Lista 5\n",
        "\n",
        "\n",
        "\n",
        "# Exercício 4\n",
        "\n",
        "'''# usarei funçoes importadas statistics novamente\n",
        "import statistics\n",
        "cafe = [12,15,18,22,17,14,18,23,29,12]\n",
        "media = stats.mean(cafe)\n",
        "print('a) Produção Média: ',media)\n",
        "mediana = stats.median(cafe)\n",
        "print('b) Produção Médiana: ',mediana)\n",
        "DP = stats.stdev(cafe)\n",
        "print('c) Desvio Padrão: ',DP)'''\n"
      ],
      "execution_count": null,
      "outputs": [
        {
          "output_type": "stream",
          "text": [
            "a) Produção Média:  18\n",
            "b) Produção Médiana:  17.5\n",
            "c) Desvio Padrão:  5.374838498865699\n"
          ],
          "name": "stdout"
        }
      ]
    },
    {
      "cell_type": "code",
      "metadata": {
        "colab": {
          "base_uri": "https://localhost:8080/"
        },
        "id": "FOP0G5Y5UDR5",
        "outputId": "9af0b4b7-123a-4ac6-cf3b-0a2a93965a03"
      },
      "source": [
        "# Diciplina : Probabilidade e Estastistica\n",
        "# Leonardo Maruno Drews /Turma: A\n",
        "# Matricula: 20114290095\n",
        "# Lista 5\n",
        "\n",
        "\n",
        "\n",
        "# Exercício 5\n",
        "\n",
        "'''import statistics as stats\n",
        "from scipy.stats import gmean\n",
        "nota = []\n",
        "num = int\n",
        "# simplificarei os nomes.\n",
        "media_aritimetica = 'MA'\n",
        "media_harmonica = 'MH'\n",
        "media_geometrica = 'MG'\n",
        "moda = 'MOD'\n",
        "variancia = 'VR'\n",
        "desvio_padrao = 'DP'\n",
        "coeficiente_de_Variância = 'CV'\n",
        "# usarei while para loop, e colocando o comando -999 para executar o loop\n",
        "while (num != -999):\n",
        "  num = int (input('Digite uma nota: '))\n",
        "  if (num <0 or num >10):\n",
        "    if (num == -999):\n",
        "      print('...')\n",
        "    else:\n",
        "      print('Erro: tente de novo! ')\n",
        "  else:\n",
        "    nota.append(num)\n",
        "else:\n",
        "  nota.sort()\n",
        "  MA = stats.mean(nota)\n",
        "  print('a) Média Aritimética: ',MA)\n",
        "  MH = stats.harmonic_mean(nota)\n",
        "  print('b) Média Harmônica: ',MH)\n",
        "  MG = gmean(nota)\n",
        "  print('c) Média Geométrica: ',MG)\n",
        "  MOD = stats.mode(nota)\n",
        "  print('d) Moda: ',MOD)\n",
        "  VR = stats.variance(nota)\n",
        "  print('e) Variância: ',VR)\n",
        "  DP = stats.stdev(nota)\n",
        "  print('f) Desvio Padrão: ',DP)\n",
        "  CV = statistics.stdev(nota) / statistics.mean(nota) *100\n",
        "  print('g) Coeficiente da variância: ',CV)'''"
      ],
      "execution_count": null,
      "outputs": [
        {
          "output_type": "stream",
          "text": [
            "Digite uma nota: 1\n",
            "Digite uma nota: 2\n",
            "Digite uma nota: 3\n",
            "Digite uma nota: 4\n",
            "Digite uma nota: 5\n",
            "Digite uma nota: 6\n",
            "Digite uma nota: 7\n",
            "Digite uma nota: 8\n",
            "Digite uma nota: 9\n",
            "Digite uma nota: 9\n",
            "Digite uma nota: 11\n",
            "Erro: tente de novo! \n",
            "Digite uma nota: -999\n",
            "...\n",
            "a) Média Aritimética:  5.4\n",
            "b) Média Harmônica:  3.401268727223647\n",
            "c) Média Geométrica:  4.481264252082504\n",
            "d) Moda:  9\n",
            "e) Variância:  8.266666666666666\n",
            "f) Desvio Padrão:  2.875181153713043\n",
            "g) Coeficiente da variância:  53.244095439130426\n"
          ],
          "name": "stdout"
        }
      ]
    },
    {
      "cell_type": "code",
      "metadata": {
        "colab": {
          "base_uri": "https://localhost:8080/"
        },
        "id": "E4d9Rcv4NQN6",
        "outputId": "848a1c50-6fc0-4448-dc40-dc22ec0dd92d"
      },
      "source": [
        "# Diciplina : Probabilidade e Estastistica\n",
        "# Leonardo Maruno Drews /Turma: A\n",
        "# Matricula: 20114290095\n",
        "# Lista 5\n",
        "\n",
        "\n",
        "\n",
        "# Exercício 6\n",
        "\n",
        "'''nota1 = int(input('Digite a nota 1: '))\n",
        "nota2 = int(input('Digite a nota 2: '))\n",
        "nota3 = int(input('Digite a nota 3: '))\n",
        "media_ponderada = 'MP'\n",
        "# Calculo da Média Ponderada\n",
        "MP = (nota1 *3 + nota2 *4 + nota3 *3) / (10)\n",
        "# notas que são < 0 ou > 10 darão erro\n",
        "if (nota1 <0 or nota1 >10) or (nota2 <0 or nota2 >10) or (nota3 <0 or nota3 >10):\n",
        "  print('ERRO! ')\n",
        "else:\n",
        "  print('Média Ponderada: ',MP)'''"
      ],
      "execution_count": null,
      "outputs": [
        {
          "output_type": "stream",
          "text": [
            "Digite a nota 1: 12\n",
            "Digite a nota 2: 1\n",
            "Digite a nota 3: 2\n",
            "ERRO! \n"
          ],
          "name": "stdout"
        }
      ]
    }
  ]
}