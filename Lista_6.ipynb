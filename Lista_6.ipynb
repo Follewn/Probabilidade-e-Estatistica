{
  "nbformat": 4,
  "nbformat_minor": 0,
  "metadata": {
    "colab": {
      "name": "Lista 6",
      "provenance": [],
      "collapsed_sections": [],
      "authorship_tag": "ABX9TyO8cmQOnVxp9csBjDgT4dWi",
      "include_colab_link": true
    },
    "kernelspec": {
      "name": "python3",
      "display_name": "Python 3"
    }
  },
  "cells": [
    {
      "cell_type": "markdown",
      "metadata": {
        "id": "view-in-github",
        "colab_type": "text"
      },
      "source": [
        "<a href=\"https://colab.research.google.com/github/Follewn/Probabilidade-e-estatistica/blob/Lista-6/Lista_6.ipynb\" target=\"_parent\"><img src=\"https://colab.research.google.com/assets/colab-badge.svg\" alt=\"Open In Colab\"/></a>"
      ]
    },
    {
      "cell_type": "code",
      "metadata": {
        "colab": {
          "base_uri": "https://localhost:8080/"
        },
        "id": "iH88Kiu33MvG",
        "outputId": "1540df76-5d26-448e-82da-c807c02de1e9"
      },
      "source": [
        "# Diciplina : Probabilidade e Estastistica\n",
        "# Leonardo Maruno Drews /Turma: A\n",
        "# Matricula: 20114290095\n",
        "# Lista 6\n",
        "\n",
        "\n",
        "\n",
        "# Exercício 1\n",
        "\n",
        "'''import pandas as pd\n",
        "# Usarei pandas para manipular tabelas numéricas.\n",
        "dados = {'Matemática: ' :[60,58,73,51,54,75,48,72,75,83,62,52], 'Música: ' :[80,62,70,83,62,92,79,88,54,82,64,69]}\n",
        "rs = pd.DataFrame(dados, columns = ['Matemática: ','Música: '])\n",
        "correlaçao = rs.corr()\n",
        "print(correlaçao)'''"
      ],
      "execution_count": 35,
      "outputs": [
        {
          "output_type": "stream",
          "text": [
            "              Matemática:   Música: \n",
            "Matemática:       1.000000  0.169146\n",
            "Música:           0.169146  1.000000\n"
          ],
          "name": "stdout"
        }
      ]
    },
    {
      "cell_type": "code",
      "metadata": {
        "colab": {
          "base_uri": "https://localhost:8080/",
          "height": 35
        },
        "id": "x_-DrgFi7CNU",
        "outputId": "b538f436-4899-48a8-fdca-db4ddce4da25"
      },
      "source": [
        "# Diciplina : Probabilidade e Estastistica\n",
        "# Leonardo Maruno Drews /Turma: A\n",
        "# Matricula: 20114290095\n",
        "# Lista 6\n",
        "\n",
        "\n",
        "\n",
        "# Exercício 2\n",
        "\n",
        "'''Coeficiente da relação r = 0,207, 0 a 0.3 positivo ou negativo indica uma correlação desprezível.'''"
      ],
      "execution_count": 36,
      "outputs": [
        {
          "output_type": "execute_result",
          "data": {
            "application/vnd.google.colaboratory.intrinsic+json": {
              "type": "string"
            },
            "text/plain": [
              "'Coeficiente da relação r = 0,207, 0 a 0.3 positivo ou negativo indica uma correlação desprezível.'"
            ]
          },
          "metadata": {
            "tags": []
          },
          "execution_count": 36
        }
      ]
    },
    {
      "cell_type": "code",
      "metadata": {
        "colab": {
          "base_uri": "https://localhost:8080/"
        },
        "id": "Bizrstuz-M8B",
        "outputId": "c5e4ed36-5961-4624-b9dc-ed392de17237"
      },
      "source": [
        "# Diciplina : Probabilidade e Estastistica\n",
        "# Leonardo Maruno Drews /Turma: A\n",
        "# Matricula: 20114290095\n",
        "# Lista 6\n",
        "\n",
        "\n",
        "\n",
        "# Exercício 3\n",
        "\n",
        "'''import pandas as pd\n",
        "dados = {'Ano de Serviço: ':[2,3,4,5,4,6,7,8,8,10],'Nº Clientes: ':[48,50,56,52,43,60,62,58,64,72]}\n",
        "rs = pd.DataFrame(dados, columns = ['Ano de Serviço: ','Nº Clientes: '])\n",
        "correlaçao = rs.corr()\n",
        "print(correlaçao)\n",
        "print('Correlação é Positiva! ')'''"
      ],
      "execution_count": 55,
      "outputs": [
        {
          "output_type": "stream",
          "text": [
            "                  Ano de Serviço:   Nº Clientes: \n",
            "Ano de Serviço:           1.000000       0.876795\n",
            "Nº Clientes:              0.876795       1.000000\n",
            "Correlação Positiva! \n"
          ],
          "name": "stdout"
        }
      ]
    },
    {
      "cell_type": "code",
      "metadata": {
        "colab": {
          "base_uri": "https://localhost:8080/"
        },
        "id": "_A-VR8t1DoR8",
        "outputId": "2318df14-8d93-4215-8655-69a04cad8222"
      },
      "source": [
        "# Diciplina : Probabilidade e Estastistica\n",
        "# Leonardo Maruno Drews /Turma: A\n",
        "# Matricula: 20114290095\n",
        "# Lista 6\n",
        "\n",
        "\n",
        "\n",
        "# Exercício 4\n",
        "\n",
        "'''import pandas as pd\n",
        "dados = {'X: ':[12,16,18,20,28,30,40,48,50,54],'Y: ':[7.2,7.4,7.0,6.5,6.6,6.7,6.0,5.6,6.0,5.5]}\n",
        "rs = pd.DataFrame(dados, columns = ['X: ','Y: '])\n",
        "correlaçao = rs.corr()\n",
        "print(correlaçao)\n",
        "print('Correlação é Negativa!')'''\n"
      ],
      "execution_count": 71,
      "outputs": [
        {
          "output_type": "stream",
          "text": [
            "          X:        Y: \n",
            "X:   1.000000 -0.940463\n",
            "Y:  -0.940463  1.000000\n",
            "Correlação é Negativa\n"
          ],
          "name": "stdout"
        }
      ]
    },
    {
      "cell_type": "code",
      "metadata": {
        "colab": {
          "base_uri": "https://localhost:8080/"
        },
        "id": "mssB7SIcHC1j",
        "outputId": "6610eb26-016a-407b-8a63-5907eeb2a17c"
      },
      "source": [
        "# Diciplina : Probabilidade e Estastistica\n",
        "# Leonardo Maruno Drews /Turma: A\n",
        "# Matricula: 20114290095\n",
        "# Lista 6\n",
        "\n",
        "\n",
        "\n",
        "# Exercício 5 \n",
        "\n",
        "'''import statistics as stats\n",
        "# Importarei statistics para usar o 'mean' para calcular a média e o 'stdev' para calcular o desvio padrão\n",
        "import pandas as pd\n",
        "conjunto1 = 'cj1'\n",
        "conjunto2 = 'cj2'\n",
        "conjunto3 = 'cj3'\n",
        "conjunto4 = 'cj4'\n",
        "cj1 = {'X: ':[10,8,13,9,11,14,6,4,12,7,5],'Y: ':[8.04,6.95,7.58,8.81,8.33,9.96,7.24,4.26,10.84,4.82,5.68]}\n",
        "print('Média de X: ', stats.mean(cj1['X: ']))\n",
        "print('Média de Y: ', stats.mean(cj1['Y: ']))\n",
        "print('Desvio Padrão de X: ',stats.stdev(cj1['X: ']))\n",
        "print('Desvio Padrão de Y: ',stats.stdev(cj1['Y: ']))\n",
        "rs1 = pd.DataFrame(cj1, columns = ['X: ', 'Y: '])\n",
        "correlacao1 = rs1.corr()\n",
        "print('\\nCoeficiente de correlação do Conjunto 1: ')\n",
        "print(correlacao1)\n",
        "print('Correlação: positiva!')\n",
        "cj2 = {'X: ':[10,8,13,9,11,14,6,4,12,7,5],'Y: ':[9.14,8.14,8.74,8.77,9.26,8.10,6.13,3.10,9.13,7.26,4.74]}\n",
        "print('Média de X: ', stats.mean(cj2['X: ']))\n",
        "print('Média de Y: ', stats.mean(cj2['Y: ']))\n",
        "print('Desvio Padrão de X: ',stats.stdev(cj2['X: ']))\n",
        "print('Desvio Padrão de Y: ',stats.stdev(cj2['Y: ']))\n",
        "rs2 = pd.DataFrame(cj2, columns = ['X: ', 'Y: '])\n",
        "correlacao2 = rs2.corr()\n",
        "print('\\nCoeficiente de correlação do Conjunto 2: ')\n",
        "print(correlacao2)\n",
        "print('Correlação: positiva!')\n",
        "cj3 = {'X: ':[10,8,13,9,11,14,6,4,12,7,5],'Y: ':[7.46,6.77,12.74,7.11,7.81,8.84,6.08,5.39,8.15,6.42,5.73]}\n",
        "print('Média de X: ', stats.mean(cj3['X: ']))\n",
        "print('Média de Y: ', stats.mean(cj3['Y: ']))\n",
        "print('Desvio Padrão de X: ',stats.stdev(cj3['X: ']))\n",
        "print('Desvio Padrão de Y: ',stats.stdev(cj3['Y: ']))\n",
        "rs3 = pd.DataFrame(cj3, columns = ['X: ', 'Y: '])\n",
        "correlacao3 = rs3.corr()\n",
        "print('\\nCoeficiente de correlaçãodo do Conjunto 3:')\n",
        "print(correlacao3)\n",
        "print('Correlação: positiva!')\n",
        "cj4 = {'X: ':[8,8,8,8,8,8,8,19,8,8,8],'Y: ':[6.58,5.76,7.71,8.84,8.47,7.04,5.25,12.50,5.56,7.91,6.89]}\n",
        "print('Média de X: ', stats.mean(cj4['X: ']))\n",
        "print('Média de Y: ', stats.mean(cj4['Y: ']))\n",
        "print('Desvio Padrão de X: ',stats.stdev(cj4['X: ']))\n",
        "print('Desvio Padrão de Y: ',stats.stdev(cj4['Y: ']))\n",
        "rs4 = pd.DataFrame(cj4, columns = ['X: ', 'Y: '])\n",
        "correlacao4 = rs4.corr()\n",
        "print('\\nCoeficiente de correlação do Conjunto 4:')\n",
        "print(correlacao4)\n",
        "print('Correlação: positiva!')'''"
      ],
      "execution_count": 79,
      "outputs": [
        {
          "output_type": "stream",
          "text": [
            "Média de X:  9\n",
            "Média de Y:  7.500909090909091\n",
            "Desvio Padrão de X:  3.3166247903554\n",
            "Desvio Padrão de Y:  2.031568135925815\n",
            "\n",
            "Coeficiente de correlação do Conjunto 1: \n",
            "          X:        Y: \n",
            "X:   1.000000  0.816421\n",
            "Y:   0.816421  1.000000\n",
            "Correlação: positiva!\n",
            "Média de X:  9\n",
            "Média de Y:  7.500909090909091\n",
            "Desvio Padrão de X:  3.3166247903554\n",
            "Desvio Padrão de Y:  2.0316567355016177\n",
            "\n",
            "Coeficiente de correlação do Conjunto 2: \n",
            "          X:        Y: \n",
            "X:   1.000000  0.816237\n",
            "Y:   0.816237  1.000000\n",
            "Correlação: positiva!\n",
            "Média de X:  9\n",
            "Média de Y:  7.5\n",
            "Desvio Padrão de X:  3.3166247903554\n",
            "Desvio Padrão de Y:  2.030423601123667\n",
            "\n",
            "Coeficiente de correlaçãodo do Conjunto 3:\n",
            "          X:        Y: \n",
            "X:   1.000000  0.816287\n",
            "Y:   0.816287  1.000000\n",
            "Correlação: positiva!\n",
            "Média de X:  9\n",
            "Média de Y:  7.500909090909091\n",
            "Desvio Padrão de X:  3.3166247903554\n",
            "Desvio Padrão de Y:  2.0305785113876023\n",
            "\n",
            "Coeficiente de correlação do Conjunto 4:\n",
            "          X:        Y: \n",
            "X:   1.000000  0.816521\n",
            "Y:   0.816521  1.000000\n",
            "Correlação: positiva!\n"
          ],
          "name": "stdout"
        }
      ]
    },
    {
      "cell_type": "code",
      "metadata": {
        "colab": {
          "base_uri": "https://localhost:8080/"
        },
        "id": "wkJF5aQAMUx_",
        "outputId": "78804f8e-ba8a-4207-b0ce-6e607a5ebd8f"
      },
      "source": [
        "# Diciplina : Probabilidade e Estastistica\n",
        "# Leonardo Maruno Drews /Turma: A\n",
        "# Matricula: 20114290095\n",
        "# Lista 6\n",
        "\n",
        "\n",
        "\n",
        "# Exercício 6\n",
        "\n",
        "'''import pandas as pd\n",
        "import matplotlib as plt\n",
        "dados = {'Produtividade: ':[100,102,105,108,112,120],'Alimentação: ':[4,5,1,3,6,2],'Exercícios: ':[1,3,2,4,5,6],'Rodizio: ':[3,1,2,6,4,5]}\n",
        "rs = pd.DataFrame(dados, columns = ['Produtividade: ', 'Alimentação: ', 'Exercícios: ', 'Rodizio' ])\n",
        "correlaçao = rs.corr()\n",
        "print(correlaçao)'''"
      ],
      "execution_count": 90,
      "outputs": [
        {
          "output_type": "stream",
          "text": [
            "                 Produtividade:   Alimentação:   Exercícios: \n",
            "Produtividade:          1.000000      -0.196822      0.925791\n",
            "Alimentação:           -0.196822       1.000000      0.085714\n",
            "Exercícios:             0.925791       0.085714      1.000000\n"
          ],
          "name": "stdout"
        }
      ]
    }
  ]
}